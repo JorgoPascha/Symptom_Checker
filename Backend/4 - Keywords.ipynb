{
 "cells": [
  {
   "cell_type": "markdown",
   "id": "42d044a5-7231-4b68-974b-bf2e21d0addf",
   "metadata": {},
   "source": [
    "# Keyword Extraction"
   ]
  },
  {
   "cell_type": "markdown",
   "id": "18823953-73a3-4944-9322-8cd975adb8b9",
   "metadata": {},
   "source": [
    "This script is more or less an Extra as most of it is not used in our Process."
   ]
  },
  {
   "cell_type": "markdown",
   "id": "e0928dbe-6808-4e3a-bc41-0b449fb33b87",
   "metadata": {},
   "source": [
    "This is Rake. Rake is a small library that takes some integrated stopword-lists and extracts keywords of sentences.\n",
    "We use Rake for keyword extraction of our user input as we do only use keywords for symptom prediction in our intents anyway.\n",
    "Furthermore we do not need anything else than the keywords themself. We neither need any particular medical keywords as normal people decribe their symptoms with commonly used words. We also get only one short sentence from the user which makes any entitiy recognition process useless."
   ]
  },
  {
   "cell_type": "code",
   "execution_count": 1,
   "id": "34c5d118-10a3-4030-bb21-4cf4731d95ef",
   "metadata": {},
   "outputs": [
    {
     "data": {
      "text/plain": [
       "[('head hurts', 4.0), ('sneeze', 1.0), ('badly', 1.0), ('pain', 1.0)]"
      ]
     },
     "execution_count": 1,
     "metadata": {},
     "output_type": "execute_result"
    }
   ],
   "source": [
    "import RAKE\n",
    "Rake = RAKE.Rake(RAKE.SmartStopList())\n",
    "#Rake = RAKE.Rake(RAKE.NLTKStopList())\n",
    "Rake.run(\"I have to sneeze very badly. My head hurts and is in pain.\")"
   ]
  },
  {
   "cell_type": "markdown",
   "id": "4ab53c2e-6a6c-45f2-9daf-2fbb379e4fde",
   "metadata": {},
   "source": [
    "### Extra"
   ]
  },
  {
   "cell_type": "markdown",
   "id": "7203d5a4-af5f-4c76-882e-d6f1dc3924e5",
   "metadata": {},
   "source": [
    "The rest of this notebook is not used and is copied from a website for Entity Recognition which would be usable if we would extend our model to not only guess one symptom at a time but many with the user giving more sentences or words at once."
   ]
  },
  {
   "cell_type": "code",
   "execution_count": 2,
   "id": "5ee1874c-ab00-4ec9-b575-53a0b390dc7d",
   "metadata": {},
   "outputs": [],
   "source": [
    "from nltk import tokenize\n",
    "from operator import itemgetter\n",
    "import math\n",
    "import nltk\n",
    "from nltk.corpus import stopwords\n",
    "from nltk.tokenize import word_tokenize "
   ]
  },
  {
   "cell_type": "code",
   "execution_count": 3,
   "id": "eb1db3e7-a635-4cfd-bb56-1154bdceebb9",
   "metadata": {},
   "outputs": [],
   "source": [
    "doc = \"I have a headache. My belly hurts and my ears are swollen.\""
   ]
  },
  {
   "cell_type": "code",
   "execution_count": 4,
   "id": "ebbf2742-353c-482b-8176-bf721cecc590",
   "metadata": {},
   "outputs": [],
   "source": [
    "stop_words = set(stopwords.words('english'))"
   ]
  },
  {
   "cell_type": "code",
   "execution_count": 5,
   "id": "ee59beb2-ea46-4fa8-8b9a-97a27ae508d9",
   "metadata": {},
   "outputs": [
    {
     "name": "stdout",
     "output_type": "stream",
     "text": [
      "12\n"
     ]
    }
   ],
   "source": [
    "total_words = doc.split()\n",
    "total_word_length = len(total_words)\n",
    "print(total_word_length)"
   ]
  },
  {
   "cell_type": "code",
   "execution_count": 6,
   "id": "cc9aafe5-aa49-470f-bdbb-3a02b9e6810a",
   "metadata": {},
   "outputs": [
    {
     "name": "stdout",
     "output_type": "stream",
     "text": [
      "2\n"
     ]
    }
   ],
   "source": [
    "total_sentences = tokenize.sent_tokenize(doc)\n",
    "total_sent_len = len(total_sentences)\n",
    "print(total_sent_len)"
   ]
  },
  {
   "cell_type": "code",
   "execution_count": 7,
   "id": "02b3b375-87b6-431b-966b-3d1cf0851156",
   "metadata": {},
   "outputs": [
    {
     "name": "stdout",
     "output_type": "stream",
     "text": [
      "{'I': 0.08333333333333333, 'headache': 0.08333333333333333, 'My': 0.08333333333333333, 'belly': 0.08333333333333333, 'hurts': 0.08333333333333333, 'ears': 0.08333333333333333, 'swollen': 0.08333333333333333}\n"
     ]
    }
   ],
   "source": [
    "tf_score = {}\n",
    "for each_word in total_words:\n",
    "    each_word = each_word.replace('.','')\n",
    "    if each_word not in stop_words:\n",
    "        if each_word in tf_score:\n",
    "            tf_score[each_word] += 1\n",
    "        else:\n",
    "            tf_score[each_word] = 1\n",
    "\n",
    "# Dividing by total_word_length for each dictionary element\n",
    "tf_score.update((x, y/int(total_word_length)) for x, y in tf_score.items())\n",
    "print(tf_score)"
   ]
  },
  {
   "cell_type": "code",
   "execution_count": 8,
   "id": "1819050f-282e-4d71-81c8-84c919460422",
   "metadata": {},
   "outputs": [],
   "source": [
    "def check_sent(word, sentences): \n",
    "    final = [all([w in x for w in word]) for x in sentences] \n",
    "    sent_len = [sentences[i] for i in range(0, len(final)) if final[i]]\n",
    "    return int(len(sent_len))"
   ]
  },
  {
   "cell_type": "code",
   "execution_count": 9,
   "id": "410a5511-2e16-4c14-a387-40b603dec534",
   "metadata": {},
   "outputs": [
    {
     "name": "stdout",
     "output_type": "stream",
     "text": [
      "{'I': 0.6931471805599453, 'headache': 0.6931471805599453, 'My': 0.6931471805599453, 'belly': 0.6931471805599453, 'hurts': 0.6931471805599453, 'ears': 0.6931471805599453, 'swollen': 0.6931471805599453}\n"
     ]
    }
   ],
   "source": [
    "idf_score = {}\n",
    "for each_word in total_words:\n",
    "    each_word = each_word.replace('.','')\n",
    "    if each_word not in stop_words:\n",
    "        if each_word in idf_score:\n",
    "            idf_score[each_word] = check_sent(each_word, total_sentences)\n",
    "        else:\n",
    "            idf_score[each_word] = 1\n",
    "\n",
    "# Performing a log and divide\n",
    "idf_score.update((x, math.log(int(total_sent_len)/y)) for x, y in idf_score.items())\n",
    "\n",
    "print(idf_score)"
   ]
  },
  {
   "cell_type": "code",
   "execution_count": 10,
   "id": "faf0a41c-fc9a-4d08-b0d3-69ca9435edaf",
   "metadata": {},
   "outputs": [
    {
     "name": "stdout",
     "output_type": "stream",
     "text": [
      "{'I': 0.057762265046662105, 'headache': 0.057762265046662105, 'My': 0.057762265046662105, 'belly': 0.057762265046662105, 'hurts': 0.057762265046662105, 'ears': 0.057762265046662105, 'swollen': 0.057762265046662105}\n"
     ]
    }
   ],
   "source": [
    "tf_idf_score = {key: tf_score[key] * idf_score.get(key, 0) for key in tf_score.keys()}\n",
    "print(tf_idf_score)"
   ]
  },
  {
   "cell_type": "code",
   "execution_count": 11,
   "id": "d2d3081c-eb9b-40b4-89a2-3e4ccccf2fbe",
   "metadata": {},
   "outputs": [],
   "source": [
    "def get_top_n(dict_elem, n):\n",
    "    result = dict(sorted(dict_elem.items(), key = itemgetter(1), reverse = True)[:n]) \n",
    "    return result"
   ]
  },
  {
   "cell_type": "code",
   "execution_count": 12,
   "id": "c38e253e-9e37-4d5d-ad8c-f765ce157830",
   "metadata": {},
   "outputs": [
    {
     "name": "stdout",
     "output_type": "stream",
     "text": [
      "{'I': 0.057762265046662105, 'headache': 0.057762265046662105, 'My': 0.057762265046662105, 'belly': 0.057762265046662105, 'hurts': 0.057762265046662105}\n"
     ]
    }
   ],
   "source": [
    "print(get_top_n(tf_idf_score, 5))"
   ]
  },
  {
   "cell_type": "markdown",
   "id": "1543a6cc-9c97-4eca-afda-6996424e9c47",
   "metadata": {},
   "source": [
    "Note here that words like 'I' and 'My' get recognized as well here which would not be useful in our case."
   ]
  }
 ],
 "metadata": {
  "kernelspec": {
   "display_name": "Python 3",
   "language": "python",
   "name": "python3"
  },
  "language_info": {
   "codemirror_mode": {
    "name": "ipython",
    "version": 3
   },
   "file_extension": ".py",
   "mimetype": "text/x-python",
   "name": "python",
   "nbconvert_exporter": "python",
   "pygments_lexer": "ipython3",
   "version": "3.9.7"
  }
 },
 "nbformat": 4,
 "nbformat_minor": 5
}
