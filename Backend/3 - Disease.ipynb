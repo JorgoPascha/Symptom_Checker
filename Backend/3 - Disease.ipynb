{
 "cells": [
  {
   "cell_type": "markdown",
   "id": "b57fbb24-1d38-4970-98dd-3bd171453631",
   "metadata": {},
   "source": [
    "# Disease Prediction"
   ]
  },
  {
   "cell_type": "markdown",
   "id": "2eeb64ba-f992-4262-93a1-4daad00866bc",
   "metadata": {},
   "source": [
    "This script has nothing to do with a NLP part, it is a normal classification algorithm. For our purpose we decided to use a Decision tree."
   ]
  },
  {
   "cell_type": "markdown",
   "id": "232c38b7-1737-4800-aac1-88d516b1ceb3",
   "metadata": {},
   "source": [
    "### Imports"
   ]
  },
  {
   "cell_type": "code",
   "execution_count": 3,
   "id": "f1bdd1c7-29a9-43ba-b08e-62daa4ac9d9f",
   "metadata": {},
   "outputs": [],
   "source": [
    "#import standard + support libs\n",
    "import numpy as np\n",
    "import pandas as pd\n",
    "import matplotlib.pyplot as plt\n",
    "import pickle\n",
    "\n",
    "#import machine learning libs\n",
    "from sklearn.tree import DecisionTreeClassifier\n",
    "from sklearn.model_selection import train_test_split\n",
    "\n",
    "\n",
    "#import for ignoring any warning\n",
    "import warnings\n",
    "warnings.filterwarnings(\"ignore\", category=DeprecationWarning)"
   ]
  },
  {
   "cell_type": "markdown",
   "id": "d5348888-8819-4832-a5a1-cb37051b8346",
   "metadata": {},
   "source": [
    "### Data Processing"
   ]
  },
  {
   "cell_type": "code",
   "execution_count": 4,
   "id": "4151b175-ceef-4dc9-a88e-adc3de44849d",
   "metadata": {},
   "outputs": [],
   "source": [
    "df = pd.read_csv('Training.csv')\n",
    "\n",
    "df = df.drop('fluid_overload.1', axis=1)"
   ]
  },
  {
   "cell_type": "code",
   "execution_count": 5,
   "id": "f81dde5f-3603-4b36-9ec7-6b0066191676",
   "metadata": {},
   "outputs": [],
   "source": [
    "columns = list(df.columns)[:-1]\n",
    "x = df[columns]\n",
    "y = df['prognosis']\n",
    "\n",
    "\n",
    "x_train, x_test, y_train, y_test = train_test_split(x, y, test_size=0.25, random_state=42)\n"
   ]
  },
  {
   "cell_type": "markdown",
   "id": "77666c04-7dbf-4362-8835-1082dcf29cf2",
   "metadata": {},
   "source": [
    "### Model"
   ]
  },
  {
   "cell_type": "markdown",
   "id": "7d434857-38f5-45d0-ab5f-9c02d230b2f1",
   "metadata": {},
   "source": [
    "#### Find optimal paramter for Decicion Tree"
   ]
  },
  {
   "cell_type": "code",
   "execution_count": 8,
   "id": "e8cb58e6-e406-4247-907c-2efcfd253aee",
   "metadata": {},
   "outputs": [],
   "source": [
    "#Find the optimal max_depth for the decision tree\n",
    "\n",
    "def optimum(x_train, y_train, x_test, y_test): \n",
    "    \n",
    "    train_errors = []\n",
    "    test_errors = []\n",
    "    depths = list(range(1,51))\n",
    "    \n",
    "    \n",
    "    #try every depth\n",
    "    for depth in depths: \n",
    "        \n",
    "        model = DecisionTreeClassifier(splitter='random', max_depth=depth)\n",
    "        \n",
    "        model.fit(x_train, y_train)\n",
    "        \n",
    "        \n",
    "        \n",
    "        learning_error = 1 - model.score(x_train, y_train) \n",
    "        train_errors.append(learning_error)\n",
    "        \n",
    "        testing_error = 1 - model.score(x_test, y_test)        \n",
    "        test_errors.append(testing_error)\n",
    "        \n",
    "        #get best depth of decision tree\n",
    "        best_depth = depths[np.argmin(test_errors)]\n",
    "    \n",
    "    return depths, best_depth, train_errors, test_errors"
   ]
  },
  {
   "cell_type": "code",
   "execution_count": 9,
   "id": "818177de-ea52-4403-955e-5d2714e57d1c",
   "metadata": {},
   "outputs": [
    {
     "data": {
      "image/png": "[encoded data removed]",
      "text/plain": [
       "<Figure size 720x288 with 1 Axes>"
      ]
     },
     "metadata": {
      "needs_background": "light"
     },
     "output_type": "display_data"
    },
    {
     "data": {
      "text/plain": [
       "<Figure size 432x288 with 0 Axes>"
      ]
     },
     "metadata": {},
     "output_type": "display_data"
    }
   ],
   "source": [
    "depths, best_depth, train_errors, test_errors = optimum(x_train, y_train, x_test, y_test)\n",
    "\n",
    "\n",
    "#plot train and test error for every tested depth of the decicion tree\n",
    "fig = plt.figure(figsize=(10,4))\n",
    "plt.title(f\"Optimal depth = {best_depth}\")\n",
    "plt.plot(depths, train_errors, c='purple', label='Training error')\n",
    "plt.plot(depths, test_errors, c='orange', label='Testing error')\n",
    "plt.legend()\n",
    "\n",
    "\n",
    "plt.show()\n",
    "plt.savefig('DecisionTree.png')"
   ]
  },
  {
   "cell_type": "markdown",
   "id": "23bd6192-ce60-44a8-8e01-089dbd0cc527",
   "metadata": {},
   "source": [
    "Note that at a depth of around 36, there are no real improvements, so choosing depths greater than what we chose here (50) is unnecessary as it would lead to overfitting depending on the test data you choose."
   ]
  },
  {
   "cell_type": "markdown",
   "id": "bbff8d75-270b-4c8c-aeae-229facc275ef",
   "metadata": {},
   "source": [
    "#### Model Fit"
   ]
  },
  {
   "cell_type": "code",
   "execution_count": 10,
   "id": "062137f8-c037-4018-a219-2425fad82ea2",
   "metadata": {},
   "outputs": [],
   "source": [
    "#train\n",
    "CLF  = DecisionTreeClassifier(splitter='random', max_depth=50)\n",
    "clf = CLF.fit(x_train,y_train)"
   ]
  },
  {
   "cell_type": "code",
   "execution_count": 39,
   "id": "e84b36d9-0b26-427c-bc07-36d0a0b82f38",
   "metadata": {},
   "outputs": [
    {
     "data": {
      "text/plain": [
       "0.9796747967479674"
      ]
     },
     "execution_count": 39,
     "metadata": {},
     "output_type": "execute_result"
    }
   ],
   "source": [
    "#validation\n",
    "clf.score(x_test,y_test)"
   ]
  },
  {
   "cell_type": "markdown",
   "id": "bc4a2d2f-9ef8-4e28-bfdf-3162acffdafd",
   "metadata": {},
   "source": [
    "One remark on the goodness of the fit: The decision tree appears to be very good when it gets every symptom of a disease. However it does not always get every disease so the train data might have to get manipulated so that for every entry of a disease it should get all the combinations of the symptoms it can have as a extra entry. Furthermore there is a problem with the diseases as every \"instance\" of a disease shows different symptoms depending on the person, which makes it hard for the model to predict the right disease."
   ]
  },
  {
   "cell_type": "markdown",
   "id": "0d613e77-6f30-432f-a570-168f83d7bf64",
   "metadata": {},
   "source": [
    "### Save fitted model and list of all symptoms"
   ]
  },
  {
   "cell_type": "code",
   "execution_count": 41,
   "id": "c2411437-2e25-473f-ac4c-db9b5f959139",
   "metadata": {},
   "outputs": [],
   "source": [
    "with open('fitted_model.pickle', 'wb') as model_file:\n",
    "    model_final = pickle.dump(clf, model_file)"
   ]
  },
  {
   "cell_type": "code",
   "execution_count": 42,
   "id": "e329cee4-6e0b-468a-afe5-eaaa3f667272",
   "metadata": {},
   "outputs": [],
   "source": [
    "columns = list(df.columns)[:-1]"
   ]
  },
  {
   "cell_type": "code",
   "execution_count": 14,
   "id": "39db2ba6-f851-477f-bda3-6b84b11b3b5b",
   "metadata": {},
   "outputs": [],
   "source": [
    "with open('all_symptoms.pickle', 'wb') as data_file:\n",
    "    symptoms_list = pickle.dump(columns, data_file)"
   ]
  }
 ],
 "metadata": {
  "kernelspec": {
   "display_name": "Python 3",
   "language": "python",
   "name": "python3"
  },
  "language_info": {
   "codemirror_mode": {
    "name": "ipython",
    "version": 3
   },
   "file_extension": ".py",
   "mimetype": "text/x-python",
   "name": "python",
   "nbconvert_exporter": "python",
   "pygments_lexer": "ipython3",
   "version": "3.9.7"
  }
 },
 "nbformat": 4,
 "nbformat_minor": 5
}
