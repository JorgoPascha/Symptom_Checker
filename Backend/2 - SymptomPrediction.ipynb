{
  "cells": [
    {
      "cell_type": "markdown",
      "source": [
        "# Symptom Prediction\n",
        "### Imports"
      ],
      "metadata": {
        "id": "THYd2eP-GC2j"
      },
      "id": "THYd2eP-GC2j"
    },
    {
      "cell_type": "code",
      "execution_count": null,
      "id": "046ddf87-b41a-4340-8def-c77840ec614f",
      "metadata": {
        "id": "046ddf87-b41a-4340-8def-c77840ec614f"
      },
      "outputs": [],
      "source": [
        "#import standard + support libs\n",
        "import numpy as np\n",
        "import pandas as pd\n",
        "import matplotlib.pyplot as plt\n",
        "import json\n",
        "\n",
        "#import nlp libs\n",
        "import nltk\n",
        "from nltk.stem import PorterStemmer\n",
        "\n",
        "import torch\n",
        "import torch.nn as nn\n",
        "from torch.utils.data import Dataset, DataLoader"
      ]
    },
    {
      "cell_type": "code",
      "source": [
        "#download necessary nltk libraries\n",
        "nltk.download('punkt')\n",
        "nltk.download('wordnet')"
      ],
      "metadata": {
        "colab": {
          "base_uri": "https://localhost:8080/"
        },
        "id": "U0i3MIpEEE40",
        "outputId": "3534d91c-ab82-41b7-f9f5-0ee641ca4289"
      },
      "id": "U0i3MIpEEE40",
      "execution_count": null,
      "outputs": [
        {
          "output_type": "stream",
          "name": "stdout",
          "text": [
            "[nltk_data] Downloading package punkt to /root/nltk_data...\n",
            "[nltk_data]   Package punkt is already up-to-date!\n",
            "[nltk_data] Downloading package wordnet to /root/nltk_data...\n",
            "[nltk_data]   Package wordnet is already up-to-date!\n"
          ]
        },
        {
          "output_type": "execute_result",
          "data": {
            "text/plain": [
              "True"
            ]
          },
          "metadata": {},
          "execution_count": 56
        }
      ]
    },
    {
      "cell_type": "code",
      "execution_count": null,
      "id": "7865bbc2-c85f-4fd7-893c-072d7ae0d698",
      "metadata": {
        "id": "7865bbc2-c85f-4fd7-893c-072d7ae0d698"
      },
      "outputs": [],
      "source": [
        "#load intents\n",
        "with open('intents_new_new.json', 'r') as f:\n",
        "    intents = json.load(f)"
      ]
    },
    {
      "cell_type": "code",
      "execution_count": null,
      "id": "93fec5f6-8a80-4719-a717-48dd33935f16",
      "metadata": {
        "id": "93fec5f6-8a80-4719-a717-48dd33935f16"
      },
      "outputs": [],
      "source": [
        "#extract list of tags, patterns\n",
        "\n",
        "labels = []\n",
        "patterns = []\n",
        "\n",
        "for intent in intents['intents']:\n",
        "    tag = intent['tag']\n",
        "    labels.append(tag) #add new tag to list of tags/labels\n",
        "    pattern = intent['patterns']\n",
        "    patterns.append(pattern) #add new pattern to list of patterns"
      ]
    },
    {
      "cell_type": "markdown",
      "source": [
        "### Data Processing"
      ],
      "metadata": {
        "id": "y4Y0Iw9vGkcQ"
      },
      "id": "y4Y0Iw9vGkcQ"
    },
    {
      "cell_type": "code",
      "source": [
        "#create a function that stems a tokenized pattern / sentence and makes a bag of words / vector out of it (of all words of the intents)\n",
        "def word_to_vect(tokenized_sentence, all_words):\n",
        "    #stem tokenized sentence\n",
        "    #as we have little words per pattern we only stem the words without looking at the context of the words around it\n",
        "    tokenized_sentence = [PorterStemmer().stem(w.lower()) for w in tokenized_sentence] \n",
        "    \n",
        "    #create vector\n",
        "    vect=[]    \n",
        "    for word in all_words:\n",
        "        if word in tokenized_sentence:\n",
        "            vect.append(1)\n",
        "        else: \n",
        "            vect.append(0)\n",
        "    return np.asarray(vect, dtype=np.float32)"
      ],
      "metadata": {
        "id": "upGSCeIT0_wI"
      },
      "id": "upGSCeIT0_wI",
      "execution_count": null,
      "outputs": []
    },
    {
      "cell_type": "code",
      "execution_count": null,
      "id": "1c87f729-2a7d-45ab-8a77-ed237f98ab9b",
      "metadata": {
        "id": "1c87f729-2a7d-45ab-8a77-ed237f98ab9b"
      },
      "outputs": [],
      "source": [
        "#in order for the word to vec to work we need a list of every word in the patterns of the intents\n",
        "\n",
        "word_list = []\n",
        "for pattern in patterns:\n",
        "    for sentence in pattern:\n",
        "        #tokenize\n",
        "        words = nltk.word_tokenize(sentence)\n",
        "        #stemming\n",
        "        for word in words:\n",
        "            word = PorterStemmer().stem(word.lower())\n",
        "            word_list.append(word) #add new word to existing ones\n",
        "            \n",
        "#list of all words\n",
        "word_list = sorted(set(word_list))"
      ]
    },
    {
      "cell_type": "code",
      "execution_count": null,
      "id": "d9799b53-69e8-4737-8201-4a6540f935f4",
      "metadata": {
        "id": "d9799b53-69e8-4737-8201-4a6540f935f4"
      },
      "outputs": [],
      "source": [
        "#create vector for every pattern in the intents\n",
        "\n",
        "data_train = []\n",
        "for i in range(len(labels)):\n",
        "    for j in range(len(patterns[i])):\n",
        "        token=nltk.word_tokenize(patterns[i][j]) #tokenize sentences\n",
        "        word_bag=word_to_vect(token, word_list) #create a bag of words/ word to vect out of the tokens\n",
        "        data_train.append((i, word_bag))"
      ]
    },
    {
      "cell_type": "code",
      "execution_count": null,
      "id": "6e8b58de-fb0f-4095-9a17-95011b660a12",
      "metadata": {
        "id": "6e8b58de-fb0f-4095-9a17-95011b660a12"
      },
      "outputs": [],
      "source": [
        "#split up data in vectors of the patterns = X and labels = Y\n",
        "x_train=[]\n",
        "y_train=[]\n",
        "for y,x in data_train:\n",
        "    x_train.append(x)\n",
        "    y_train.append(y)\n",
        "x_train = np.array(x_train)\n",
        "y_train = np.array(y_train)"
      ]
    },
    {
      "cell_type": "markdown",
      "source": [
        "### Pytorch"
      ],
      "metadata": {
        "id": "7m_3-ZVEJohZ"
      },
      "id": "7m_3-ZVEJohZ"
    },
    {
      "cell_type": "code",
      "execution_count": null,
      "id": "a6c05c3b-ec91-43af-b66b-0b2ac13dfd90",
      "metadata": {
        "id": "a6c05c3b-ec91-43af-b66b-0b2ac13dfd90"
      },
      "outputs": [],
      "source": [
        "#create Dataset that is usable for PyTorch\n",
        "class CustomDataset(Dataset):\n",
        "    def __init__(self, words, tags):\n",
        "        self.x = words\n",
        "        self.y = tags\n",
        "        self.length = len(words)\n",
        "    \n",
        "    def __len__(self):\n",
        "        return  self.length\n",
        "    \n",
        "    def __getitem__(self, i):\n",
        "        return self.x[i], self.y[i]"
      ]
    },
    {
      "cell_type": "code",
      "execution_count": null,
      "id": "af3cdf0a-afc9-4957-8054-62e4a28caf93",
      "metadata": {
        "id": "af3cdf0a-afc9-4957-8054-62e4a28caf93"
      },
      "outputs": [],
      "source": [
        "#Neural Network\n",
        "#this is a simple neural network for the classification process\n",
        "\n",
        "class Net(nn.Module):\n",
        "    def __init__(self, number_words, hidden_size, number_tags):\n",
        "        super(Net, self).__init__()\n",
        "        self.start = nn.Linear(number_words, hidden_size) #input layer\n",
        "        self.h1 = nn.Linear(hidden_size, hidden_size) #hidden layer\n",
        "        self.end = nn.Linear(hidden_size, number_tags) #output layer\n",
        "        \n",
        "        self.relu = nn.ReLU() \n",
        "        \n",
        "    def forward(self, x):\n",
        "        x = self.relu(self.start(x))\n",
        "        x = self.relu(self.h1(x))\n",
        "        x = self.end(x)\n",
        "        return x"
      ]
    },
    {
      "cell_type": "code",
      "execution_count": null,
      "id": "2ec3cee8-fa5a-447f-8827-bd1cde86886f",
      "metadata": {
        "id": "2ec3cee8-fa5a-447f-8827-bd1cde86886f"
      },
      "outputs": [],
      "source": [
        "#Model preparation\n",
        "data = DataLoader(CustomDataset(x_train, y_train),\n",
        "                  batch_size=8, shuffle=True, num_workers=2)\n",
        "\n",
        "#if you wanna use your gpu, type 'cuda' instead of 'cpu'\n",
        "model = Net(number_words=len(word_list), number_tags=len(labels), hidden_size=8).to(torch.device('cpu'))\n",
        "\n",
        "#these loss functions and optimizers were chosen due to recommendations of Pytorch\n",
        "crit = nn.CrossEntropyLoss()\n",
        "optimize = torch.optim.ASGD(model.parameters(), lr=0.01)"
      ]
    },
    {
      "cell_type": "markdown",
      "source": [
        "#### Model Train"
      ],
      "metadata": {
        "id": "ZuTlfgagJuan"
      },
      "id": "ZuTlfgagJuan"
    },
    {
      "cell_type": "code",
      "execution_count": null,
      "id": "609c1094-cf0a-4794-a741-7259969a6445",
      "metadata": {
        "colab": {
          "base_uri": "https://localhost:8080/"
        },
        "id": "609c1094-cf0a-4794-a741-7259969a6445",
        "outputId": "2b04f73b-6ed9-41c1-9347-e1d54cb04694"
      },
      "outputs": [
        {
          "output_type": "stream",
          "name": "stdout",
          "text": [
            "epoch 100/1000, loss = 0.3618\n",
            "epoch 200/1000, loss = 1.2081\n",
            "epoch 300/1000, loss = 0.0839\n",
            "epoch 400/1000, loss = 0.1676\n",
            "epoch 500/1000, loss = 0.0166\n",
            "epoch 600/1000, loss = 0.0133\n",
            "epoch 700/1000, loss = 0.1331\n",
            "epoch 800/1000, loss = 0.0015\n",
            "epoch 900/1000, loss = 0.0500\n",
            "epoch 1000/1000, loss = 0.0769\n"
          ]
        }
      ],
      "source": [
        "for epoch in range(1000):\n",
        "    for (words, tags) in data:\n",
        "        #if you wanna use your gpu, type 'cuda' instead of 'cpu'\n",
        "        words = words.to(torch.device('cpu'))\n",
        "        tags = tags.to(torch.device('cpu'))\n",
        "        \n",
        "        #forward step\n",
        "        output = model(words)\n",
        "        loss = crit(output, tags)\n",
        "        \n",
        "        #backward step\n",
        "        optimize.zero_grad()\n",
        "        loss.backward()\n",
        "        optimize.step()\n",
        "\n",
        "    #print loss every 100 steps of training    \n",
        "    if (epoch + 1) % 100 == 0:\n",
        "        print(f'epoch {epoch + 1}/1000, loss = {loss.item():.4f}')"
      ]
    },
    {
      "cell_type": "code",
      "source": [
        "#save trained data\n",
        "data = {\n",
        "    \"model_state\": model.state_dict(),\n",
        "    \"word_list\": word_list,\n",
        "    \"tags\": labels\n",
        "}\n",
        "\n",
        "FILE = \"data.pth\"\n",
        "torch.save(data, FILE)"
      ],
      "metadata": {
        "id": "nf2Er8ER-0IM"
      },
      "id": "nf2Er8ER-0IM",
      "execution_count": null,
      "outputs": []
    }
  ],
  "metadata": {
    "kernelspec": {
      "display_name": "Python 3",
      "language": "python",
      "name": "python3"
    },
    "language_info": {
      "codemirror_mode": {
        "name": "ipython",
        "version": 3
      },
      "file_extension": ".py",
      "mimetype": "text/x-python",
      "name": "python",
      "nbconvert_exporter": "python",
      "pygments_lexer": "ipython3",
      "version": "3.9.7"
    },
    "colab": {
      "name": "SymptomPrediction.ipynb",
      "provenance": [],
      "collapsed_sections": []
    },
    "accelerator": "GPU"
  },
  "nbformat": 4,
  "nbformat_minor": 5
}